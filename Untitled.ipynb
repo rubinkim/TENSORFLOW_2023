{
 "cells": [
  {
   "cell_type": "markdown",
   "id": "d904277a",
   "metadata": {},
   "source": [
    "## 6.3 Fashion MNIST 데이터세트에 적용하기\n",
    "5장에서는 주로 Dense레이어를 사용해서 Fashion MNIST의 분류 문제를 풀었다면, 6장에서는 Convolution layer와 Pooling layer등을 사용해서 분류 문제를 풀 때 퍼포먼스가 얼마나 개선될 수 있는지 살펴보기로 하자."
   ]
  },
  {
   "cell_type": "markdown",
   "id": "2b615127",
   "metadata": {},
   "source": [
    "## 데이터세트 불러오기 및 정규화"
   ]
  },
  {
   "cell_type": "code",
   "execution_count": 1,
   "id": "4e8d6d87",
   "metadata": {},
   "outputs": [],
   "source": [
    "import tensorflow as tf\n",
    "\n",
    "fashion_mnist = tf.keras.datasets.fashion_mnist\n",
    "(train_X, train_Y),(test_X, test_Y) = fashion_mnist.load_data()\n",
    "\n",
    "train_X = train_X / 255.0\n",
    "test_X = test_X / 255.0"
   ]
  },
  {
   "cell_type": "markdown",
   "id": "65a16f40",
   "metadata": {},
   "source": [
    "tf.keras에서 Fashin MNIST 데이터세트를 불러오고 정규화하는 부분은 5장과 같지만, 5장에서는 Dense레이어에 훈련데이터와 테스트데이터를 통과시켰던 것과는 다르게 6장에서는 Conv2D레이어로 컨볼루션 연산을 해야 한다. 이미지는 보통 채널을 가지고 있고(컬러이미지는 RGB의 3채널, 흑백이미지는 1채널), Conv2D레이어는 채널을 가진 형태의 데이터를 받도록 기본적으로 설정돼 있기 때문에 우리는 채널을 갖도록 데이터의 shape을 바꾼다."
   ]
  },
  {
   "cell_type": "code",
   "execution_count": 3,
   "id": "306f4dbc",
   "metadata": {},
   "outputs": [
    {
     "name": "stdout",
     "output_type": "stream",
     "text": [
      "Before reshape : (60000, 28, 28), (10000, 28, 28)\n",
      "After reshape : (60000, 28, 28, 1), (10000, 28, 28, 1)\n"
     ]
    }
   ],
   "source": [
    "# reshape 이전\n",
    "print(f\"Before reshape : {train_X.shape}, {test_X.shape}\")\n",
    "\n",
    "# 흑백이미지 데이터로 1개의 채널을 갖기 때문에 reshape()을 사용해서 데이터의 가장 뒤쪽에 채널 차원을 추가한다.\n",
    "train_X = train_X.reshape(-1, 28, 28, 1)\n",
    "test_X = test_X.reshape(-1, 28, 28, 1)\n",
    "\n",
    "# reshape 이후\n",
    "print(f\"After reshape : {train_X.shape}, {test_X.shape}\")"
   ]
  },
  {
   "cell_type": "code",
   "execution_count": null,
   "id": "9f651b79",
   "metadata": {},
   "outputs": [],
   "source": []
  },
  {
   "cell_type": "code",
   "execution_count": null,
   "id": "9f19ce71",
   "metadata": {},
   "outputs": [],
   "source": []
  },
  {
   "cell_type": "code",
   "execution_count": null,
   "id": "0d422ed6",
   "metadata": {},
   "outputs": [],
   "source": []
  }
 ],
 "metadata": {
  "kernelspec": {
   "display_name": "tf_gpu",
   "language": "python",
   "name": "tf_gpu"
  },
  "language_info": {
   "codemirror_mode": {
    "name": "ipython",
    "version": 3
   },
   "file_extension": ".py",
   "mimetype": "text/x-python",
   "name": "python",
   "nbconvert_exporter": "python",
   "pygments_lexer": "ipython3",
   "version": "3.9.13"
  }
 },
 "nbformat": 4,
 "nbformat_minor": 5
}
