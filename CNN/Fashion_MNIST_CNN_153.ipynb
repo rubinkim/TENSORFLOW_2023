{
  "nbformat": 4,
  "nbformat_minor": 0,
  "metadata": {
    "colab": {
      "provenance": []
    },
    "kernelspec": {
      "name": "python3",
      "display_name": "Python 3"
    },
    "language_info": {
      "name": "python"
    },
    "gpuClass": "standard"
  },
  "cells": [
    {
      "cell_type": "code",
      "execution_count": null,
      "metadata": {
        "id": "eLJXPPr_UzBk"
      },
      "outputs": [],
      "source": [
        "import tensorflow as tf\n",
        "import matplotlib.pyplot as plt"
      ]
    },
    {
      "cell_type": "code",
      "source": [
        "fashion_mnist = tf.keras.datasets.fashion_mnist\n",
        "(train_X, train_Y),(test_X, test_Y) = fashion_mnist.load_data()\n",
        "\n",
        "train_X = train_X / 255.0\n",
        "test_X = test_X / 255.0\n",
        "\n",
        "train_X = train_X.reshape(-1,28,28,1)\n",
        "test_X = test_X.reshape(-1,28,28,1)"
      ],
      "metadata": {
        "colab": {
          "base_uri": "https://localhost:8080/"
        },
        "id": "kG1YBBvhVN45",
        "outputId": "fb1ba9d6-8d66-432b-e20a-1cf2fa442991"
      },
      "execution_count": null,
      "outputs": [
        {
          "output_type": "stream",
          "name": "stdout",
          "text": [
            "Downloading data from https://storage.googleapis.com/tensorflow/tf-keras-datasets/train-labels-idx1-ubyte.gz\n",
            "29515/29515 [==============================] - 0s 0us/step\n",
            "Downloading data from https://storage.googleapis.com/tensorflow/tf-keras-datasets/train-images-idx3-ubyte.gz\n",
            "26421880/26421880 [==============================] - 2s 0us/step\n",
            "Downloading data from https://storage.googleapis.com/tensorflow/tf-keras-datasets/t10k-labels-idx1-ubyte.gz\n",
            "5148/5148 [==============================] - 0s 0us/step\n",
            "Downloading data from https://storage.googleapis.com/tensorflow/tf-keras-datasets/t10k-images-idx3-ubyte.gz\n",
            "4422102/4422102 [==============================] - 0s 0us/step\n"
          ]
        }
      ]
    },
    {
      "cell_type": "code",
      "source": [
        "!nvidia-smi"
      ],
      "metadata": {
        "colab": {
          "base_uri": "https://localhost:8080/"
        },
        "id": "4sm28MnvWOUT",
        "outputId": "b51fe454-735c-496b-d792-91e244cd336f"
      },
      "execution_count": null,
      "outputs": [
        {
          "output_type": "stream",
          "name": "stdout",
          "text": [
            "Sat Dec 10 09:28:55 2022       \n",
            "+-----------------------------------------------------------------------------+\n",
            "| NVIDIA-SMI 460.32.03    Driver Version: 460.32.03    CUDA Version: 11.2     |\n",
            "|-------------------------------+----------------------+----------------------+\n",
            "| GPU  Name        Persistence-M| Bus-Id        Disp.A | Volatile Uncorr. ECC |\n",
            "| Fan  Temp  Perf  Pwr:Usage/Cap|         Memory-Usage | GPU-Util  Compute M. |\n",
            "|                               |                      |               MIG M. |\n",
            "|===============================+======================+======================|\n",
            "|   0  Tesla T4            Off  | 00000000:00:04.0 Off |                    0 |\n",
            "| N/A   67C    P0    29W /  70W |      0MiB / 15109MiB |      0%      Default |\n",
            "|                               |                      |                  N/A |\n",
            "+-------------------------------+----------------------+----------------------+\n",
            "                                                                               \n",
            "+-----------------------------------------------------------------------------+\n",
            "| Processes:                                                                  |\n",
            "|  GPU   GI   CI        PID   Type   Process name                  GPU Memory |\n",
            "|        ID   ID                                                   Usage      |\n",
            "|=============================================================================|\n",
            "|  No running processes found                                                 |\n",
            "+-----------------------------------------------------------------------------+\n"
          ]
        }
      ]
    },
    {
      "cell_type": "code",
      "source": [
        "model = tf.keras.Sequential([\n",
        "    tf.keras.layers.Conv2D(input_shape=(28,28,1), kernel_size=(3,3), filters=16),\n",
        "    tf.keras.layers.Conv2D(kernel_size=(3,3), filters=32),\n",
        "    tf.keras.layers.Conv2D(kernel_size=(3,3), filters=64),\n",
        "    tf.keras.layers.Flatten(),\n",
        "    tf.keras.layers.Dense(units=128, activation='relu'),\n",
        "    tf.keras.layers.Dense(units=10, activation='softmax')\n",
        "])\n",
        "\n",
        "model.compile(optimizer=tf.keras.optimizers.Adam(), loss='sparse_categorical_crossentropy', metrics=['accuracy'])\n",
        "\n",
        "model.summary()"
      ],
      "metadata": {
        "id": "OQ2jIHd8WkZa",
        "colab": {
          "base_uri": "https://localhost:8080/"
        },
        "outputId": "d6e8ffbc-fb8e-43b4-f3bd-c5cf06375c16"
      },
      "execution_count": null,
      "outputs": [
        {
          "output_type": "stream",
          "name": "stdout",
          "text": [
            "Model: \"sequential\"\n",
            "_________________________________________________________________\n",
            " Layer (type)                Output Shape              Param #   \n",
            "=================================================================\n",
            " conv2d (Conv2D)             (None, 26, 26, 16)        160       \n",
            "                                                                 \n",
            " conv2d_1 (Conv2D)           (None, 24, 24, 32)        4640      \n",
            "                                                                 \n",
            " conv2d_2 (Conv2D)           (None, 22, 22, 64)        18496     \n",
            "                                                                 \n",
            " flatten (Flatten)           (None, 30976)             0         \n",
            "                                                                 \n",
            " dense (Dense)               (None, 128)               3965056   \n",
            "                                                                 \n",
            " dense_1 (Dense)             (None, 10)                1290      \n",
            "                                                                 \n",
            "=================================================================\n",
            "Total params: 3,989,642\n",
            "Trainable params: 3,989,642\n",
            "Non-trainable params: 0\n",
            "_________________________________________________________________\n"
          ]
        }
      ]
    },
    {
      "cell_type": "code",
      "source": [
        "# 실제로 모델을 학습시켜 보자.\n",
        "history = model.fit(train_X, train_Y, epochs=25, validation_split=0.25)"
      ],
      "metadata": {
        "id": "QrKBSYiPXDwy",
        "colab": {
          "base_uri": "https://localhost:8080/"
        },
        "outputId": "0e590190-309d-4205-d892-dffabfb97912"
      },
      "execution_count": null,
      "outputs": [
        {
          "output_type": "stream",
          "name": "stdout",
          "text": [
            "Epoch 1/25\n",
            "1407/1407 [==============================] - 15s 6ms/step - loss: 0.4796 - accuracy: 0.8281 - val_loss: 0.3939 - val_accuracy: 0.8571\n",
            "Epoch 2/25\n",
            "1407/1407 [==============================] - 8s 6ms/step - loss: 0.3423 - accuracy: 0.8763 - val_loss: 0.3759 - val_accuracy: 0.8675\n",
            "Epoch 3/25\n",
            "1407/1407 [==============================] - 7s 5ms/step - loss: 0.2915 - accuracy: 0.8930 - val_loss: 0.3765 - val_accuracy: 0.8649\n",
            "Epoch 4/25\n",
            "1407/1407 [==============================] - 8s 5ms/step - loss: 0.2536 - accuracy: 0.9067 - val_loss: 0.3972 - val_accuracy: 0.8642\n",
            "Epoch 5/25\n",
            "1407/1407 [==============================] - 7s 5ms/step - loss: 0.2181 - accuracy: 0.9202 - val_loss: 0.4166 - val_accuracy: 0.8688\n",
            "Epoch 6/25\n",
            "1407/1407 [==============================] - 8s 5ms/step - loss: 0.1897 - accuracy: 0.9306 - val_loss: 0.4455 - val_accuracy: 0.8706\n",
            "Epoch 7/25\n",
            "1407/1407 [==============================] - 7s 5ms/step - loss: 0.1696 - accuracy: 0.9370 - val_loss: 0.4587 - val_accuracy: 0.8636\n",
            "Epoch 8/25\n",
            "1407/1407 [==============================] - 7s 5ms/step - loss: 0.1560 - accuracy: 0.9425 - val_loss: 0.5173 - val_accuracy: 0.8591\n",
            "Epoch 9/25\n",
            "1407/1407 [==============================] - 8s 5ms/step - loss: 0.1409 - accuracy: 0.9482 - val_loss: 0.5875 - val_accuracy: 0.8513\n",
            "Epoch 10/25\n",
            "1407/1407 [==============================] - 7s 5ms/step - loss: 0.1236 - accuracy: 0.9545 - val_loss: 0.6509 - val_accuracy: 0.8543\n",
            "Epoch 11/25\n",
            "1407/1407 [==============================] - 8s 5ms/step - loss: 0.1195 - accuracy: 0.9564 - val_loss: 0.6554 - val_accuracy: 0.8648\n",
            "Epoch 12/25\n",
            "1407/1407 [==============================] - 8s 5ms/step - loss: 0.1087 - accuracy: 0.9610 - val_loss: 0.6999 - val_accuracy: 0.8593\n",
            "Epoch 13/25\n",
            "1407/1407 [==============================] - 8s 5ms/step - loss: 0.1040 - accuracy: 0.9628 - val_loss: 0.7562 - val_accuracy: 0.8639\n",
            "Epoch 14/25\n",
            "1407/1407 [==============================] - 8s 5ms/step - loss: 0.0961 - accuracy: 0.9664 - val_loss: 0.7722 - val_accuracy: 0.8595\n",
            "Epoch 15/25\n",
            "1407/1407 [==============================] - 8s 5ms/step - loss: 0.0933 - accuracy: 0.9660 - val_loss: 0.8285 - val_accuracy: 0.8629\n",
            "Epoch 16/25\n",
            "1407/1407 [==============================] - 10s 7ms/step - loss: 0.0855 - accuracy: 0.9688 - val_loss: 0.9158 - val_accuracy: 0.8600\n",
            "Epoch 17/25\n",
            "1407/1407 [==============================] - 8s 6ms/step - loss: 0.0881 - accuracy: 0.9702 - val_loss: 0.9608 - val_accuracy: 0.8653\n",
            "Epoch 18/25\n",
            "1407/1407 [==============================] - 7s 5ms/step - loss: 0.0855 - accuracy: 0.9708 - val_loss: 0.9289 - val_accuracy: 0.8631\n",
            "Epoch 19/25\n",
            "1407/1407 [==============================] - 8s 5ms/step - loss: 0.0761 - accuracy: 0.9724 - val_loss: 1.0454 - val_accuracy: 0.8613\n",
            "Epoch 20/25\n",
            "1407/1407 [==============================] - 8s 5ms/step - loss: 0.0745 - accuracy: 0.9739 - val_loss: 1.1462 - val_accuracy: 0.8593\n",
            "Epoch 21/25\n",
            "1407/1407 [==============================] - 9s 6ms/step - loss: 0.0706 - accuracy: 0.9759 - val_loss: 1.1536 - val_accuracy: 0.8565\n",
            "Epoch 22/25\n",
            "1407/1407 [==============================] - 8s 6ms/step - loss: 0.0675 - accuracy: 0.9772 - val_loss: 1.1292 - val_accuracy: 0.8648\n",
            "Epoch 23/25\n",
            "1407/1407 [==============================] - 7s 5ms/step - loss: 0.0772 - accuracy: 0.9753 - val_loss: 1.2468 - val_accuracy: 0.8635\n",
            "Epoch 24/25\n",
            "1407/1407 [==============================] - 7s 5ms/step - loss: 0.0685 - accuracy: 0.9773 - val_loss: 1.2291 - val_accuracy: 0.8563\n",
            "Epoch 25/25\n",
            "1407/1407 [==============================] - 7s 5ms/step - loss: 0.0558 - accuracy: 0.9814 - val_loss: 1.2115 - val_accuracy: 0.8542\n"
          ]
        }
      ]
    },
    {
      "cell_type": "code",
      "source": [
        "model.evaluate(test_X, test_Y, verbose=0)"
      ],
      "metadata": {
        "colab": {
          "base_uri": "https://localhost:8080/"
        },
        "id": "Go2gphYuYS2D",
        "outputId": "2f65e55a-8b52-475f-9166-94ca8382bad2"
      },
      "execution_count": null,
      "outputs": [
        {
          "output_type": "execute_result",
          "data": {
            "text/plain": [
              "[1.2629759311676025, 0.8517000079154968]"
            ]
          },
          "metadata": {},
          "execution_count": 6
        }
      ]
    }
  ]
}