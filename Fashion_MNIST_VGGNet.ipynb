{
  "nbformat": 4,
  "nbformat_minor": 0,
  "metadata": {
    "colab": {
      "provenance": []
    },
    "kernelspec": {
      "name": "python3",
      "display_name": "Python 3"
    },
    "language_info": {
      "name": "python"
    }
  },
  "cells": [
    {
      "cell_type": "markdown",
      "source": [
        "## CNN 성능 높이기\n",
        "- 가장 대표적인 쉬운 두가지 방법으로 더 많은 레이어 쌓기와 이미지 보강(Image Augmentation)이 있다. \n",
        "- CNN 더 나아가 Deep Learning의 역사는 더 깊은 신경망을 쌓기 위한 노력이라고 할 수 있다. 딥러닝에서 네트워크 구조를 깊게 쌓는 것이 가능해진 후 CNN에서는 Convolution layer가 중첩된 더 깊은 구조가 계속해서 생겨났고 성능이 크게 개선되었다.\n",
        "- 여기서는 VGGNet의 스타일로 구성한 CNN을 사용해서 Fashion MNIST 데이터를 분류하는 모델을 정의해 봤다. VGG는 단순한 구조이면서도 성능이 괜찮기 때문에 지금도 이미지의 특징 추출을 위한 네트워크에서 많이 사용되고 있다."
      ],
      "metadata": {
        "id": "f-XG5xlCQ3sT"
      }
    },
    {
      "cell_type": "markdown",
      "source": [
        "## 더 많은 레이어 쌓기 : VGGNet CNN for Fashion MNIST Dataset"
      ],
      "metadata": {
        "id": "ETaaOauCQzgs"
      }
    },
    {
      "cell_type": "code",
      "source": [],
      "metadata": {
        "id": "RS4G3z6ZULK4"
      },
      "execution_count": null,
      "outputs": []
    }
  ]
}