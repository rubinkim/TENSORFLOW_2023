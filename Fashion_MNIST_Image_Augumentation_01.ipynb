{
  "nbformat": 4,
  "nbformat_minor": 0,
  "metadata": {
    "colab": {
      "provenance": []
    },
    "kernelspec": {
      "name": "python3",
      "display_name": "Python 3"
    },
    "language_info": {
      "name": "python"
    },
    "accelerator": "GPU",
    "gpuClass": "standard"
  },
  "cells": [
    {
      "cell_type": "code",
      "execution_count": 1,
      "metadata": {
        "id": "2GSFhd4oO-sM"
      },
      "outputs": [],
      "source": [
        "import numpy as np\n",
        "import matplotlib.pyplot as plt\n",
        "import tensorflow as tf\n",
        "from tensorflow.keras.preprocessing.image import ImageDataGenerator"
      ]
    },
    {
      "cell_type": "code",
      "source": [
        "fashion_mnist = tf.keras.datasets.fashion_mnist\n",
        "(train_X, train_Y), (test_X, test_Y) = fashion_mnist.load_data()\n",
        "\n",
        "train_X = train_X / 255\n",
        "test_X = test_X / 255\n",
        "\n",
        "train_X = train_X.reshape(-1, 28, 28, 1)\n",
        "test_X = test_X.reshape(-1, 28, 28, 1)\n",
        "\n",
        "print(f\"train_X의 shape은 {train_X.shape}이고 train_Y의 shape은 {train_Y.shape}이다.\")\n",
        "print(f\"test_X의 shape은 {test_X.shape}이고 test_Y의 shape은 {test_Y.shape}이다.\")"
      ],
      "metadata": {
        "colab": {
          "base_uri": "https://localhost:8080/"
        },
        "id": "KElY9QhiPjDK",
        "outputId": "623f1c13-2980-4fe7-a76b-1f44f4fdd495"
      },
      "execution_count": 2,
      "outputs": [
        {
          "output_type": "stream",
          "name": "stdout",
          "text": [
            "Downloading data from https://storage.googleapis.com/tensorflow/tf-keras-datasets/train-labels-idx1-ubyte.gz\n",
            "29515/29515 [==============================] - 0s 0us/step\n",
            "Downloading data from https://storage.googleapis.com/tensorflow/tf-keras-datasets/train-images-idx3-ubyte.gz\n",
            "26421880/26421880 [==============================] - 2s 0us/step\n",
            "Downloading data from https://storage.googleapis.com/tensorflow/tf-keras-datasets/t10k-labels-idx1-ubyte.gz\n",
            "5148/5148 [==============================] - 0s 0us/step\n",
            "Downloading data from https://storage.googleapis.com/tensorflow/tf-keras-datasets/t10k-images-idx3-ubyte.gz\n",
            "4422102/4422102 [==============================] - 0s 0us/step\n",
            "train_X의 shape은 (60000, 28, 28, 1)이고 train_Y의 shape은 (60000,)이다.\n",
            "test_X의 shape은 (10000, 28, 28, 1)이고 test_Y의 shape은 (10000,)이다.\n"
          ]
        }
      ]
    },
    {
      "cell_type": "markdown",
      "source": [
        "### 실제로 훈련 데이터 이미지를 보강하기 위해 다량의 이미지를 생성하고 학습을 위해 훈련 데이터에 추가해 보자."
      ],
      "metadata": {
        "id": "ct_tQFxvRsMN"
      }
    },
    {
      "cell_type": "code",
      "source": [
        " image_generator = ImageDataGenerator(rotation_range=10, zoom_range=0.10, shear_range=0.50,\\\n",
        "                width_shift_range=0.10, height_shift_range=0.10, horizontal_flip=True, vertical_flip=False)\n",
        " \n",
        " augument_size = 30000\n",
        "\n",
        " randidx = np.random.randint(low=train_X.shape[0], size=augument_size)\n",
        " x_augumented = train_X[randidx].copy()\n",
        " y_augumented = train_Y[randidx].copy()\n",
        "\n",
        "print(f\"x_augumented의 shape는 {x_augumented.shape}이고 y_augumented의 shape는 {y_augumented.shape}이다.\")"
      ],
      "metadata": {
        "colab": {
          "base_uri": "https://localhost:8080/"
        },
        "id": "PJK5JNqlRqOH",
        "outputId": "1b40deea-b092-441b-e1a2-137c65221d18"
      },
      "execution_count": 3,
      "outputs": [
        {
          "output_type": "stream",
          "name": "stdout",
          "text": [
            "x_augumented의 shape는 (30000, 28, 28, 1)이고 y_augumented의 shape는 (30000,)이다.\n"
          ]
        }
      ]
    },
    {
      "cell_type": "code",
      "source": [
        "x_augumented = image_generator.flow(x=x_augumented, y=np.zeros(augument_size), batch_size=augument_size, shuffle=False).next()[0]"
      ],
      "metadata": {
        "id": "w_rWPqvzZxt3"
      },
      "execution_count": 4,
      "outputs": []
    },
    {
      "cell_type": "markdown",
      "source": [
        "### 원래 데이터인 train_X에 이미지 보강된 x_augumented를 추가한다."
      ],
      "metadata": {
        "id": "3zebEZf2aS5A"
      }
    },
    {
      "cell_type": "code",
      "source": [
        "train_X = np.concatenate([train_X, x_augumented])\n",
        "train_Y = np.concatenate([train_Y, y_augumented])\n",
        "\n",
        "print(f\"새로운 train_X의 shape은 {train_X.shape}이고 새로운 train_Y의 shape은 {train_Y.shape}이다.\")"
      ],
      "metadata": {
        "colab": {
          "base_uri": "https://localhost:8080/"
        },
        "id": "ZkNCsxljZxqP",
        "outputId": "27c968c8-e1ee-4efe-a8e3-74774eae367f"
      },
      "execution_count": 5,
      "outputs": [
        {
          "output_type": "stream",
          "name": "stdout",
          "text": [
            "새로운 train_X의 shape은 (90000, 28, 28, 1)이고 새로운 train_Y의 shape은 (90000,)이다.\n"
          ]
        }
      ]
    },
    {
      "cell_type": "code",
      "source": [
        "# 훈련 데이터의 50%인 30,000개의 이미지를 추가하기 위해 augument_size=30000으로 설정하고 이미지를 변형할 원본 이미지를 선택하기 위해 np.random.randint()함수를 사용해서\n",
        "# 0부터 59,999까지의 범위의 정수 중에서 30,000개의 정수를 뽑아냈다. 이때 뽑히는 정수는 중복될 수 있다. 중복을 원하지 않는 경우는 np.random.choice()함수를 사용하고 replace\n",
        "# = False로 설정하면 된다. randidx는 [2, 25432, 425, ...]와 같은 정수로 구성된 array이고 train_X에서 이 array의 원소들이 가리키는 이미지들을 30,000개를 한번에 선택할 수 있다.\n",
        "# 이렇게 선택한 데이터는 원본 데이터를 참조하는 형태이기 때문에 원본 데이터에 영향을 주지 않기 위해 copy()함수로 안전하게 복사본을 만들어 준다.\n",
        "# 그 다음에는 ImageDataGenerator의 flow()함수로 30,000개의 새로운 이미지들을 생성한다.\n",
        "# 마지막으로 np.concatenate()함수로 훈련 데이터에 보강 이미지를 추가한다. 최종 출력에서 정상적으로 90,000개의 이미지들로 구성되어 있음을 확인할 수 있다.\n",
        "# 이제 VGGNet-7 스타일의 네트워크에 ImageDataGenerator로 보강된 훈련 데이터를 학습시켜 보자. \n"
      ],
      "metadata": {
        "id": "D7hSeFEmZxlv"
      },
      "execution_count": 56,
      "outputs": []
    },
    {
      "cell_type": "code",
      "source": [
        "model = tf.keras.Sequential([\n",
        "    tf.keras.layers.Conv2D(input_shape=(28,28,1), kernel_size=(3,3), filters=32, padding='same', activation='relu'), \n",
        "    tf.keras.layers.Conv2D(kernel_size=(3,3), filters=64, padding='same', activation='relu'),\n",
        "    tf.keras.layers.MaxPool2D(pool_size=(2,2)),\n",
        "    tf.keras.layers.Dropout(rate=0.5),\n",
        "    tf.keras.layers.Conv2D(kernel_size=(3,3), filters=128, padding='same', activation='relu'),\n",
        "    tf.keras.layers.Conv2D(kernel_size=(3,3), filters=256, padding='valid', activation='relu'),\n",
        "    tf.keras.layers.MaxPool2D(pool_size=(2,2)),\n",
        "    tf.keras.layers.Dropout(rate=0.5),\n",
        "    tf.keras.layers.Flatten(),\n",
        "    tf.keras.layers.Dense(units=512, activation='relu'),\n",
        "    tf.keras.layers.Dropout(rate=0.5),\n",
        "    tf.keras.layers.Dense(units=256, activation='relu'),\n",
        "    tf.keras.layers.Dropout(rate=0.5),\n",
        "    tf.keras.layers.Dense(units=10, activation='softmax')\n",
        "])\n",
        "\n",
        "model.compile(optimizer = tf.keras.optimizers.Adam(), loss = 'sparse_categorical_crossentropy', metrics=['accuracy'])\n",
        "\n",
        "model.summary()"
      ],
      "metadata": {
        "colab": {
          "base_uri": "https://localhost:8080/"
        },
        "id": "pzMfPEfkZxdP",
        "outputId": "caaae01b-fc29-4dc3-e371-b747ca664373"
      },
      "execution_count": 9,
      "outputs": [
        {
          "output_type": "stream",
          "name": "stdout",
          "text": [
            "Model: \"sequential_2\"\n",
            "_________________________________________________________________\n",
            " Layer (type)                Output Shape              Param #   \n",
            "=================================================================\n",
            " conv2d_12 (Conv2D)          (None, 28, 28, 32)        320       \n",
            "                                                                 \n",
            " conv2d_13 (Conv2D)          (None, 28, 28, 64)        18496     \n",
            "                                                                 \n",
            " max_pooling2d_6 (MaxPooling  (None, 14, 14, 64)       0         \n",
            " 2D)                                                             \n",
            "                                                                 \n",
            " dropout_9 (Dropout)         (None, 14, 14, 64)        0         \n",
            "                                                                 \n",
            " conv2d_14 (Conv2D)          (None, 14, 14, 128)       73856     \n",
            "                                                                 \n",
            " conv2d_15 (Conv2D)          (None, 12, 12, 256)       295168    \n",
            "                                                                 \n",
            " max_pooling2d_7 (MaxPooling  (None, 6, 6, 256)        0         \n",
            " 2D)                                                             \n",
            "                                                                 \n",
            " dropout_10 (Dropout)        (None, 6, 6, 256)         0         \n",
            "                                                                 \n",
            " flatten_2 (Flatten)         (None, 9216)              0         \n",
            "                                                                 \n",
            " dense_6 (Dense)             (None, 512)               4719104   \n",
            "                                                                 \n",
            " dropout_11 (Dropout)        (None, 512)               0         \n",
            "                                                                 \n",
            " dense_7 (Dense)             (None, 256)               131328    \n",
            "                                                                 \n",
            " dropout_12 (Dropout)        (None, 256)               0         \n",
            "                                                                 \n",
            " dense_8 (Dense)             (None, 10)                2570      \n",
            "                                                                 \n",
            "=================================================================\n",
            "Total params: 5,240,842\n",
            "Trainable params: 5,240,842\n",
            "Non-trainable params: 0\n",
            "_________________________________________________________________\n"
          ]
        }
      ]
    },
    {
      "cell_type": "code",
      "source": [
        "history = model.fit(train_X, train_Y, epochs=25, validation_split=0.25)"
      ],
      "metadata": {
        "colab": {
          "base_uri": "https://localhost:8080/"
        },
        "id": "cbXk9KYbZxZn",
        "outputId": "3aa29b0d-31ab-4cfa-f117-aa5356dc48f8"
      },
      "execution_count": 10,
      "outputs": [
        {
          "output_type": "stream",
          "name": "stdout",
          "text": [
            "Epoch 1/25\n",
            "2110/2110 [==============================] - 27s 9ms/step - loss: 0.5655 - accuracy: 0.7927 - val_loss: 0.5731 - val_accuracy: 0.7916\n",
            "Epoch 2/25\n",
            "2110/2110 [==============================] - 18s 9ms/step - loss: 0.3763 - accuracy: 0.8632 - val_loss: 0.5061 - val_accuracy: 0.8100\n",
            "Epoch 3/25\n",
            "2110/2110 [==============================] - 18s 9ms/step - loss: 0.3414 - accuracy: 0.8764 - val_loss: 0.4691 - val_accuracy: 0.8191\n",
            "Epoch 4/25\n",
            "2110/2110 [==============================] - 18s 9ms/step - loss: 0.3197 - accuracy: 0.8845 - val_loss: 0.4337 - val_accuracy: 0.8383\n",
            "Epoch 5/25\n",
            "2110/2110 [==============================] - 18s 8ms/step - loss: 0.3083 - accuracy: 0.8890 - val_loss: 0.4294 - val_accuracy: 0.8420\n",
            "Epoch 6/25\n",
            "2110/2110 [==============================] - 18s 8ms/step - loss: 0.2958 - accuracy: 0.8924 - val_loss: 0.3920 - val_accuracy: 0.8518\n",
            "Epoch 7/25\n",
            "2110/2110 [==============================] - 18s 8ms/step - loss: 0.2934 - accuracy: 0.8949 - val_loss: 0.3964 - val_accuracy: 0.8535\n",
            "Epoch 8/25\n",
            "2110/2110 [==============================] - 18s 9ms/step - loss: 0.2866 - accuracy: 0.8973 - val_loss: 0.4134 - val_accuracy: 0.8455\n",
            "Epoch 9/25\n",
            "2110/2110 [==============================] - 18s 9ms/step - loss: 0.2813 - accuracy: 0.8995 - val_loss: 0.4163 - val_accuracy: 0.8394\n",
            "Epoch 10/25\n",
            "2110/2110 [==============================] - 18s 9ms/step - loss: 0.2817 - accuracy: 0.8996 - val_loss: 0.3693 - val_accuracy: 0.8632\n",
            "Epoch 11/25\n",
            "2110/2110 [==============================] - 18s 9ms/step - loss: 0.2734 - accuracy: 0.9005 - val_loss: 0.4065 - val_accuracy: 0.8545\n",
            "Epoch 12/25\n",
            "2110/2110 [==============================] - 18s 8ms/step - loss: 0.2721 - accuracy: 0.9019 - val_loss: 0.4135 - val_accuracy: 0.8489\n",
            "Epoch 13/25\n",
            "2110/2110 [==============================] - 18s 9ms/step - loss: 0.2729 - accuracy: 0.9027 - val_loss: 0.3942 - val_accuracy: 0.8587\n",
            "Epoch 14/25\n",
            "2110/2110 [==============================] - 18s 9ms/step - loss: 0.2656 - accuracy: 0.9044 - val_loss: 0.3926 - val_accuracy: 0.8586\n",
            "Epoch 15/25\n",
            "2110/2110 [==============================] - 18s 9ms/step - loss: 0.2729 - accuracy: 0.9022 - val_loss: 0.3676 - val_accuracy: 0.8661\n",
            "Epoch 16/25\n",
            "2110/2110 [==============================] - 18s 9ms/step - loss: 0.2677 - accuracy: 0.9056 - val_loss: 0.3816 - val_accuracy: 0.8637\n",
            "Epoch 17/25\n",
            "2110/2110 [==============================] - 18s 9ms/step - loss: 0.2649 - accuracy: 0.9062 - val_loss: 0.3765 - val_accuracy: 0.8644\n",
            "Epoch 18/25\n",
            "2110/2110 [==============================] - 18s 9ms/step - loss: 0.2645 - accuracy: 0.9057 - val_loss: 0.3783 - val_accuracy: 0.8619\n",
            "Epoch 19/25\n",
            "2110/2110 [==============================] - 18s 8ms/step - loss: 0.2664 - accuracy: 0.9049 - val_loss: 0.3784 - val_accuracy: 0.8600\n",
            "Epoch 20/25\n",
            "2110/2110 [==============================] - 18s 9ms/step - loss: 0.2639 - accuracy: 0.9056 - val_loss: 0.3813 - val_accuracy: 0.8578\n",
            "Epoch 21/25\n",
            "2110/2110 [==============================] - 18s 8ms/step - loss: 0.2657 - accuracy: 0.9056 - val_loss: 0.3756 - val_accuracy: 0.8686\n",
            "Epoch 22/25\n",
            "2110/2110 [==============================] - 18s 8ms/step - loss: 0.2574 - accuracy: 0.9087 - val_loss: 0.4191 - val_accuracy: 0.8409\n",
            "Epoch 23/25\n",
            "2110/2110 [==============================] - 18s 8ms/step - loss: 0.2627 - accuracy: 0.9063 - val_loss: 0.3635 - val_accuracy: 0.8708\n",
            "Epoch 24/25\n",
            "2110/2110 [==============================] - 18s 8ms/step - loss: 0.2606 - accuracy: 0.9072 - val_loss: 0.4016 - val_accuracy: 0.8529\n",
            "Epoch 25/25\n",
            "2110/2110 [==============================] - 18s 9ms/step - loss: 0.2622 - accuracy: 0.9058 - val_loss: 0.3660 - val_accuracy: 0.8713\n"
          ]
        }
      ]
    },
    {
      "cell_type": "code",
      "source": [
        "## train data와 test data의 loss와 accuracy 그래프 그리기 : num of Epochs = 30\n",
        "import matplotlib.pyplot as plt\n",
        "plt.figure(figsize=(20, 6))\n",
        "\n",
        "plt.subplot(1,2,1)\n",
        "plt.plot(history.history['loss'], 'b-', label='loss')\n",
        "plt.plot(history.history['val_loss'], 'r--', label='val_loss')\n",
        "plt.xlabel('Epoch', size=15)\n",
        "plt.tick_params(axis='both', which='major', labelsize=12)\n",
        "plt.legend(fontsize=15)\n",
        "\n",
        "plt.subplot(1,2,2)\n",
        "plt.plot(history.history['accuracy'], 'b-', label='accuracy')\n",
        "plt.plot(history.history['val_accuracy'], 'r--', label='val_accuracy')\n",
        "plt.xlabel('Epoch', size=15)\n",
        "plt.tick_params(axis='both', which='major', labelsize=12)\n",
        "plt.legend(fontsize=15, loc='lower right')\n",
        "\n",
        "plt.show()"
      ],
      "metadata": {
        "colab": {
          "base_uri": "https://localhost:8080/",
          "height": 396
        },
        "id": "dCQQ0sh2k6zg",
        "outputId": "81beaa1c-50b1-4d78-922f-c0368b74c311"
      },
      "execution_count": 11,
      "outputs": [
        {
          "output_type": "display_data",
          "data": {
            "text/plain": [
              "<Figure size 1440x432 with 2 Axes>"
            ],
            "image/png": "[encoded data removed]"
          },
          "metadata": {
            "needs_background": "light"
          }
        }
      ]
    },
    {
      "cell_type": "code",
      "source": [
        "model.evaluate(test_X, test_Y, verbose=False)"
      ],
      "metadata": {
        "colab": {
          "base_uri": "https://localhost:8080/"
        },
        "id": "dVZLhkZ4k6tB",
        "outputId": "72fd6b63-f148-4b94-ded0-1e710f46c37e"
      },
      "execution_count": 12,
      "outputs": [
        {
          "output_type": "execute_result",
          "data": {
            "text/plain": [
              "[0.21773943305015564, 0.9203000068664551]"
            ]
          },
          "metadata": {},
          "execution_count": 12
        }
      ]
    },
    {
      "cell_type": "code",
      "source": [],
      "metadata": {
        "id": "TzX9TWZJk6pB"
      },
      "execution_count": null,
      "outputs": []
    },
    {
      "cell_type": "code",
      "source": [
        "np.random.randint(low=-2, high=3, size=10)"
      ],
      "metadata": {
        "colab": {
          "base_uri": "https://localhost:8080/"
        },
        "id": "Mfc_OUEmRqFf",
        "outputId": "4b24ed10-b8e1-4152-ecf6-e13807f499c1"
      },
      "execution_count": 31,
      "outputs": [
        {
          "output_type": "execute_result",
          "data": {
            "text/plain": [
              "array([ 1, -2, -1, -1, -2,  0, -2,  0,  0,  2])"
            ]
          },
          "metadata": {},
          "execution_count": 31
        }
      ]
    },
    {
      "cell_type": "code",
      "source": [
        "x = np.arange(8).reshape(-1, 4)\n",
        "print(x)\n",
        "print()\n",
        "np.random.seed(123)\n",
        "y = np.random.randint(train_X.shape[0], size=10)\n",
        "z = np.random.randint(low=train_X.shape[0], size=10)\n",
        "w = np.random.randint(low=train_X.shape[0], high=train_X.shape[0]+100000, size=10)\n",
        "\n",
        "print(y)\n",
        "print()\n",
        "print(z)\n",
        "print()\n",
        "print(w)"
      ],
      "metadata": {
        "colab": {
          "base_uri": "https://localhost:8080/"
        },
        "id": "kLN98UpwRqBf",
        "outputId": "415ab691-8aaa-4d6a-83ef-52b87f6b6cd3"
      },
      "execution_count": 46,
      "outputs": [
        {
          "output_type": "stream",
          "name": "stdout",
          "text": [
            "[[0 1 2 3]\n",
            " [4 5 6 7]]\n",
            "\n",
            "[52734 15725 28030 17730 54370 15377  7763 46203 58937 23766]\n",
            "\n",
            "[22241    96 55409 23166 53295 53321  5664 33710 55520   111]\n",
            "\n",
            "[ 77747  95662 128861 156676  74944 143012 133521 105507  86626 132020]\n"
          ]
        }
      ]
    }
  ]
}