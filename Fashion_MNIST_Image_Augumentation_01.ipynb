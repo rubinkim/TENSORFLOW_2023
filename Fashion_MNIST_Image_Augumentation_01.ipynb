{
  "nbformat": 4,
  "nbformat_minor": 0,
  "metadata": {
    "colab": {
      "provenance": []
    },
    "kernelspec": {
      "name": "python3",
      "display_name": "Python 3"
    },
    "language_info": {
      "name": "python"
    }
  },
  "cells": [
    {
      "cell_type": "code",
      "execution_count": 1,
      "metadata": {
        "id": "2GSFhd4oO-sM"
      },
      "outputs": [],
      "source": [
        "import numpy as np\n",
        "import matplotlib.pyplot as plt\n",
        "import tensorflow as tf\n",
        "from tensorflow.keras.preprocessing.image import ImageDataGenerator"
      ]
    },
    {
      "cell_type": "code",
      "source": [
        "fashion_mnist = tf.keras.datasets.fashion_mnist\n",
        "(train_X, train_Y), (test_X, test_Y) = fashion_mnist.load_data()\n",
        "\n",
        "train_X = train_X / 255\n",
        "test_X = test_X / 255\n",
        "\n",
        "train_X = train_X.reshape(-1, 28, 28, 1)\n",
        "test_X = test_X.reshape(-1, 28, 28, 1)\n",
        "\n",
        "print(f\"train_X의 shape은 {train_X.shape}이고 train_Y의 shape은 {train_Y.shape}이다.\")\n",
        "print(f\"test_X의 shape은 {test_X.shape}이고 test_Y의 shape은 {test_Y.shape}이다.\")"
      ],
      "metadata": {
        "colab": {
          "base_uri": "https://localhost:8080/"
        },
        "id": "KElY9QhiPjDK",
        "outputId": "4707b425-5b42-481e-cee6-e612a018173d"
      },
      "execution_count": 2,
      "outputs": [
        {
          "output_type": "stream",
          "name": "stdout",
          "text": [
            "Downloading data from https://storage.googleapis.com/tensorflow/tf-keras-datasets/train-labels-idx1-ubyte.gz\n",
            "29515/29515 [==============================] - 0s 0us/step\n",
            "Downloading data from https://storage.googleapis.com/tensorflow/tf-keras-datasets/train-images-idx3-ubyte.gz\n",
            "26421880/26421880 [==============================] - 0s 0us/step\n",
            "Downloading data from https://storage.googleapis.com/tensorflow/tf-keras-datasets/t10k-labels-idx1-ubyte.gz\n",
            "5148/5148 [==============================] - 0s 0us/step\n",
            "Downloading data from https://storage.googleapis.com/tensorflow/tf-keras-datasets/t10k-images-idx3-ubyte.gz\n",
            "4422102/4422102 [==============================] - 0s 0us/step\n",
            "train_X의 shape은 (60000, 28, 28, 1)이고 train_Y의 shape은 (60000,)이다.\n",
            "test_X의 shape은 (10000, 28, 28, 1)이고 test_Y의 shape은 (10000,)이다.\n"
          ]
        }
      ]
    },
    {
      "cell_type": "markdown",
      "source": [
        "### 실제로 훈련 데이터 이미지를 보강하기 위해 다량의 이미지를 생성하고 학습을 위해 훈련 데이터에 추가해 보자."
      ],
      "metadata": {
        "id": "ct_tQFxvRsMN"
      }
    },
    {
      "cell_type": "code",
      "source": [
        " image_generator = ImageDataGenerator(rotation_range=10, zoom_range=0.10, shear_range=0.50,\\\n",
        "                width_shift_range=0.10, height_shift_range=0.10, horizontal_flip=True, vertical_flip=False)\n",
        " \n",
        " augument_size = 100\n",
        "\n",
        " randidx = np.random.randint(low=train_X.shape[0], size=augument_size)\n",
        " x_augumented = train_X[randidx].copy()\n",
        " y_augumented = train_Y[randidx].copy()\n",
        "\n",
        "print(f\"x_augumented의 shape는 {x_augumented.shape}이고 y_augumented의 shape는 {y_augumented.shape}이다.\")"
      ],
      "metadata": {
        "colab": {
          "base_uri": "https://localhost:8080/"
        },
        "id": "PJK5JNqlRqOH",
        "outputId": "f92c52ae-569b-4597-b157-74c3c63a4993"
      },
      "execution_count": 49,
      "outputs": [
        {
          "output_type": "stream",
          "name": "stdout",
          "text": [
            "x_augumented의 shape는 (100, 28, 28, 1)이고 y_augumented의 shape는 (100,)이다.\n"
          ]
        }
      ]
    },
    {
      "cell_type": "code",
      "source": [
        "np.random.randint(low=-2, high=3, size=10)"
      ],
      "metadata": {
        "colab": {
          "base_uri": "https://localhost:8080/"
        },
        "id": "Mfc_OUEmRqFf",
        "outputId": "4b24ed10-b8e1-4152-ecf6-e13807f499c1"
      },
      "execution_count": 31,
      "outputs": [
        {
          "output_type": "execute_result",
          "data": {
            "text/plain": [
              "array([ 1, -2, -1, -1, -2,  0, -2,  0,  0,  2])"
            ]
          },
          "metadata": {},
          "execution_count": 31
        }
      ]
    },
    {
      "cell_type": "code",
      "source": [
        "x = np.arange(8).reshape(-1, 4)\n",
        "print(x)\n",
        "print()\n",
        "np.random.seed(123)\n",
        "y = np.random.randint(train_X.shape[0], size=10)\n",
        "z = np.random.randint(low=train_X.shape[0], size=10)\n",
        "w = np.random.randint(low=train_X.shape[0], high=train_X.shape[0]+100000, size=10)\n",
        "\n",
        "print(y)\n",
        "print()\n",
        "print(z)\n",
        "print()\n",
        "print(w)"
      ],
      "metadata": {
        "colab": {
          "base_uri": "https://localhost:8080/"
        },
        "id": "kLN98UpwRqBf",
        "outputId": "415ab691-8aaa-4d6a-83ef-52b87f6b6cd3"
      },
      "execution_count": 46,
      "outputs": [
        {
          "output_type": "stream",
          "name": "stdout",
          "text": [
            "[[0 1 2 3]\n",
            " [4 5 6 7]]\n",
            "\n",
            "[52734 15725 28030 17730 54370 15377  7763 46203 58937 23766]\n",
            "\n",
            "[22241    96 55409 23166 53295 53321  5664 33710 55520   111]\n",
            "\n",
            "[ 77747  95662 128861 156676  74944 143012 133521 105507  86626 132020]\n"
          ]
        }
      ]
    }
  ]
}