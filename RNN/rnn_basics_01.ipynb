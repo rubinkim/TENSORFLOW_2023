{
 "cells": [
  {
   "attachments": {},
   "cell_type": "markdown",
   "metadata": {},
   "source": [
    "### 순환 신경망"
   ]
  },
  {
   "cell_type": "code",
   "execution_count": 2,
   "metadata": {},
   "outputs": [],
   "source": [
    "# 순환신경망(Recurrent Neural Network)은 지금까지 살펴본 네트워크와는 입력을 받아들이는 방식과 처리하는 방식에서 \n",
    "# 차이가 있다. RNN은 순서가 있는 데이터를 입력으로 받고 같은 네트워크를 이용해서 변화하는 입력에 대한 출력을 얻어낸다.\n",
    "# 순서가 있는 데이터로는 음악, 자연어, 날씨, 주가등 시간의 흐름에 따라 변화하고 그 변화가 의미를 갖는 데이터를 말한다.\n",
    "# 이번 장에서는 그중 가장 범용적으로 쓰이는 자연어 처리에 RNN을 사용하는 방법을 알아보기로 한다."
   ]
  },
  {
   "cell_type": "code",
   "execution_count": null,
   "metadata": {},
   "outputs": [],
   "source": []
  }
 ],
 "metadata": {
  "kernelspec": {
   "display_name": "tf_gpu",
   "language": "python",
   "name": "python3"
  },
  "language_info": {
   "codemirror_mode": {
    "name": "ipython",
    "version": 3
   },
   "file_extension": ".py",
   "mimetype": "text/x-python",
   "name": "python",
   "nbconvert_exporter": "python",
   "pygments_lexer": "ipython3",
   "version": "3.9.13"
  },
  "orig_nbformat": 4,
  "vscode": {
   "interpreter": {
    "hash": "7b18c970f1c267b2ae7de1f51c7b9ea29dc67f6c9f87d5b0ef47c4534e0830b3"
   }
  }
 },
 "nbformat": 4,
 "nbformat_minor": 2
}
