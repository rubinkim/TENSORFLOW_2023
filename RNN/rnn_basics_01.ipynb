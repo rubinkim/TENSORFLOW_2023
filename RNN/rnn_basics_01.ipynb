{
 "cells": [
  {
   "attachments": {},
   "cell_type": "markdown",
   "metadata": {},
   "source": [
    "### 순환 신경망"
   ]
  },
  {
   "cell_type": "code",
   "execution_count": 1,
   "metadata": {},
   "outputs": [],
   "source": [
    "# 순환신경망(Recurrent Neural Network)은 지금까지 살펴본 네트워크와는 입력을 받아들이는 방식과 처리하는 방식에서 \n",
    "# 차이가 있다. RNN은 순서가 있는 데이터를 입력으로 받고 같은 네트워크를 이용해서 변화하는 입력에 대한 출력을 얻어낸다.\n",
    "# 순서가 있는 데이터로는 음악, 자연어, 날씨, 주가등 시간의 흐름에 따라 변화하고 그 변화가 의미를 갖는 데이터를 말한다.\n",
    "# 이번 장에서는 그중 가장 범용적으로 쓰이는 자연어 처리에 RNN을 사용하는 방법을 알아보기로 한다."
   ]
  },
  {
   "cell_type": "code",
   "execution_count": 2,
   "metadata": {},
   "outputs": [],
   "source": [
    "# RNN은 일반적인 딥러닝 네트워크처럼 입력 X를 받아서 출력 Y를 반환하지만 추가로 되먹임 구조를 가진다는 차이가 있다.\n",
    "# In RNN, output is fed back into input\n",
    "# 되먹임 구조란 어떤 레이어의 출력을 다시 입력으로 받는 구조를 말한다. RNN의 구조를 풀어보면 입력이 X1,X2,X3으로\n",
    "# 변할 때 같은 네트워크를 사용해서 출력인 Y1,Y2,Y3를 반환하고 있는데 꼭 염두에 둬야 할 점은 출력값이 다음 입력을 \n",
    "# 받을 때의 RNN 네트워크에도 동일하게 전달되고 있다는 것이다. 즉 RNN 네트워크는 처음에는 X1을 입력으로 받고 그다음\n",
    "# 에는 X2와 이전 단계 출력값인 Y1, 그다음에는 X3와 이전 단계 출력값인 Y2를 입력으로 받는다. 이과정에서 RNN 네트워크\n",
    "# 는 동일하게 사용된다.\n",
    "# RNN은 입력과 출력의 길이에 제한이 없다는 특징이 있다. 다양한 형태의 RNN으로는 \n",
    "# ONE TO MANY : Image Captioning,  MANY TO ONE : Sentiment Classification\n",
    "# MANY TO MANY : Machine Translation, Video Classification(Frame level)"
   ]
  },
  {
   "attachments": {},
   "cell_type": "markdown",
   "metadata": {},
   "source": [
    "### SimpleRNN 레이어"
   ]
  },
  {
   "cell_type": "code",
   "execution_count": 3,
   "metadata": {},
   "outputs": [],
   "source": [
    "# RNN은 순서가 있는 데이터, 즉 변화하는 입력을 받기 때문에 각 단계에서 변화하는 입력에 대한 계산의 흐름을 파악하는\n",
    "# 것이 중요하다. Xt-1, Xt, Xt+1,...등은 SimpleRNN에 들어가는 입력을 나타내고 Ht-1, Ht, Ht+1등은 출력값들이다.\n",
    "# U는 입력에 곱해지는 가중치, W는 출력에 곱해지는 가중치이다. "
   ]
  },
  {
   "attachments": {},
   "cell_type": "markdown",
   "metadata": {},
   "source": [
    "##### 단계 t에서의 SimpleRNN레이어의 계산식 ($tanh$는 실수 입력값을 받아 (-1, 1)사이의 출력값을 반환) \n",
    "##### $$H_{t} = tanh(U * X_{t} + W * H_{t-1})$$\n"
   ]
  },
  {
   "cell_type": "code",
   "execution_count": 20,
   "metadata": {},
   "outputs": [
    {
     "name": "stdout",
     "output_type": "stream",
     "text": [
      "[0.0, 0.1, 0.2, 0.3], 0.4\n",
      "[0.1, 0.2, 0.3, 0.4], 0.5\n",
      "[0.2, 0.3, 0.4, 0.5], 0.6\n",
      "[0.3, 0.4, 0.5, 0.6], 0.7\n",
      "[0.4, 0.5, 0.6, 0.7], 0.8\n",
      "[0.5, 0.6, 0.7, 0.8], 0.9\n"
     ]
    }
   ],
   "source": [
    "# SimpleRNN레이어는 tf.keras에서 다음과 같이 생성할 수 있다.\n",
    "# units는 SimpleRNN레이어에 존재하는 뉴런의 수, return_sequences는 출력으로 시퀀스 전체를 출력할지 여부\n",
    "# rnn1 = tf.keras.layers.SimpleRNN(units=1, activation='tanh', return_sequences=True)\n",
    "# 간단한 예제로 시퀀스를 구성하는 앞쪽 4개의 숫자가 주어졌을 때 그다음에 올 숫자를 예측하는 간단한 \"시퀀스 예측 모델\"\n",
    "# 을 SimpleRNN레이어를 이용해 만들어 본다.(입력이 [1,2,3,4]일때, [5]를 예측하는 모델을 만드는 것이 목표이다.)\n",
    "\n",
    "X, Y = [], []\n",
    "for i in range(6):\n",
    "    # [0,1,2,3],[1,2,3,4]같은 정수의 시퀀스를 만든다.\n",
    "    lst = list(range(i, i+4))\n",
    "    lst = [c/10 for c in lst]\n",
    "    \n",
    "    X.append(lst)\n",
    "    Y.append(round(lst[-1] + 0.1, 1))\n",
    "\n",
    "    # 위에서 구한 시퀀스의 숫자들을 각각 10으로 나눈 다음 저장한다.\n",
    "for i in range(len(X)):\n",
    "    print(X[i], end=', ')\n",
    "    print(Y[i])   "
   ]
  },
  {
   "cell_type": "code",
   "execution_count": 22,
   "metadata": {},
   "outputs": [
    {
     "name": "stdout",
     "output_type": "stream",
     "text": [
      "[[0. ]\n",
      " [0.1]\n",
      " [0.2]\n",
      " [0.3]] 0.4\n",
      "[[0.1]\n",
      " [0.2]\n",
      " [0.3]\n",
      " [0.4]] 0.5\n",
      "[[0.2]\n",
      " [0.3]\n",
      " [0.4]\n",
      " [0.5]] 0.6\n",
      "[[0.3]\n",
      " [0.4]\n",
      " [0.5]\n",
      " [0.6]] 0.7\n",
      "[[0.4]\n",
      " [0.5]\n",
      " [0.6]\n",
      " [0.7]] 0.8\n",
      "[[0.5]\n",
      " [0.6]\n",
      " [0.7]\n",
      " [0.8]] 0.9\n"
     ]
    }
   ],
   "source": [
    "import numpy as np\n",
    "\n",
    "X = np.array(X).reshape(6, 4, 1)\n",
    "Y = np.array(Y)\n",
    "\n",
    "for i in range(len(X)):\n",
    "    print(X[i], Y[i])"
   ]
  },
  {
   "cell_type": "code",
   "execution_count": 23,
   "metadata": {},
   "outputs": [
    {
     "data": {
      "text/plain": [
       "(4, 1)"
      ]
     },
     "execution_count": 23,
     "metadata": {},
     "output_type": "execute_result"
    }
   ],
   "source": [
    "X[0].shape"
   ]
  },
  {
   "cell_type": "code",
   "execution_count": 24,
   "metadata": {},
   "outputs": [
    {
     "name": "stdout",
     "output_type": "stream",
     "text": [
      "Model: \"sequential_3\"\n",
      "_________________________________________________________________\n",
      " Layer (type)                Output Shape              Param #   \n",
      "=================================================================\n",
      " simple_rnn_3 (SimpleRNN)    (None, 10)                120       \n",
      "                                                                 \n",
      " dense_3 (Dense)             (None, 1)                 11        \n",
      "                                                                 \n",
      "=================================================================\n",
      "Total params: 131\n",
      "Trainable params: 131\n",
      "Non-trainable params: 0\n",
      "_________________________________________________________________\n"
     ]
    }
   ],
   "source": [
    "# SimpleRNN을 이용해서 네트워크를 정의한다. 모델구조는 지금까지 이용했던 Sequential Model이고 출력을 위한 Dense\n",
    "# 레이어가 추가되어 있다.\n",
    "\n",
    "import tensorflow as tf\n",
    "\n",
    "model = tf.keras.Sequential([\n",
    "    tf.keras.layers.SimpleRNN(units=10, return_sequences=False, input_shape=[4,1]),\n",
    "    tf.keras.layers.Dense(1)\n",
    "])\n",
    "\n",
    "model.compile(optimizer='adam', loss='mse')\n",
    "model.summary()"
   ]
  },
  {
   "cell_type": "code",
   "execution_count": 25,
   "metadata": {},
   "outputs": [
    {
     "data": {
      "text/plain": [
       "<keras.callbacks.History at 0x2420984bfd0>"
      ]
     },
     "execution_count": 25,
     "metadata": {},
     "output_type": "execute_result"
    }
   ],
   "source": [
    "model.fit(X, Y, epochs=100, verbose=0)"
   ]
  },
  {
   "cell_type": "code",
   "execution_count": 26,
   "metadata": {},
   "outputs": [
    {
     "name": "stdout",
     "output_type": "stream",
     "text": [
      "1/1 [==============================] - 0s 134ms/step\n",
      "[[0.39245608]\n",
      " [0.5062356 ]\n",
      " [0.6031896 ]\n",
      " [0.67993   ]\n",
      " [0.7349788 ]\n",
      " [0.7682954 ]]\n"
     ]
    }
   ],
   "source": [
    "print(model.predict(X))"
   ]
  },
  {
   "cell_type": "code",
   "execution_count": 27,
   "metadata": {},
   "outputs": [
    {
     "ename": "InvalidArgumentError",
     "evalue": "Graph execution error:\n\nDetected at node 'sequential_3/simple_rnn_3/transpose' defined at (most recent call last):\n    File \"c:\\Users\\rubin\\anaconda3\\envs\\tf_gpu\\lib\\runpy.py\", line 197, in _run_module_as_main\n      return _run_code(code, main_globals, None,\n    File \"c:\\Users\\rubin\\anaconda3\\envs\\tf_gpu\\lib\\runpy.py\", line 87, in _run_code\n      exec(code, run_globals)\n    File \"c:\\Users\\rubin\\anaconda3\\envs\\tf_gpu\\lib\\site-packages\\ipykernel_launcher.py\", line 16, in <module>\n      app.launch_new_instance()\n    File \"c:\\Users\\rubin\\anaconda3\\envs\\tf_gpu\\lib\\site-packages\\traitlets\\config\\application.py\", line 846, in launch_instance\n      app.start()\n    File \"c:\\Users\\rubin\\anaconda3\\envs\\tf_gpu\\lib\\site-packages\\ipykernel\\kernelapp.py\", line 677, in start\n      self.io_loop.start()\n    File \"c:\\Users\\rubin\\anaconda3\\envs\\tf_gpu\\lib\\site-packages\\tornado\\platform\\asyncio.py\", line 215, in start\n      self.asyncio_loop.run_forever()\n    File \"c:\\Users\\rubin\\anaconda3\\envs\\tf_gpu\\lib\\asyncio\\base_events.py\", line 601, in run_forever\n      self._run_once()\n    File \"c:\\Users\\rubin\\anaconda3\\envs\\tf_gpu\\lib\\asyncio\\base_events.py\", line 1905, in _run_once\n      handle._run()\n    File \"c:\\Users\\rubin\\anaconda3\\envs\\tf_gpu\\lib\\asyncio\\events.py\", line 80, in _run\n      self._context.run(self._callback, *self._args)\n    File \"c:\\Users\\rubin\\anaconda3\\envs\\tf_gpu\\lib\\site-packages\\ipykernel\\kernelbase.py\", line 471, in dispatch_queue\n      await self.process_one()\n    File \"c:\\Users\\rubin\\anaconda3\\envs\\tf_gpu\\lib\\site-packages\\ipykernel\\kernelbase.py\", line 460, in process_one\n      await dispatch(*args)\n    File \"c:\\Users\\rubin\\anaconda3\\envs\\tf_gpu\\lib\\site-packages\\ipykernel\\kernelbase.py\", line 367, in dispatch_shell\n      await result\n    File \"c:\\Users\\rubin\\anaconda3\\envs\\tf_gpu\\lib\\site-packages\\ipykernel\\kernelbase.py\", line 662, in execute_request\n      reply_content = await reply_content\n    File \"c:\\Users\\rubin\\anaconda3\\envs\\tf_gpu\\lib\\site-packages\\ipykernel\\ipkernel.py\", line 360, in do_execute\n      res = shell.run_cell(code, store_history=store_history, silent=silent)\n    File \"c:\\Users\\rubin\\anaconda3\\envs\\tf_gpu\\lib\\site-packages\\ipykernel\\zmqshell.py\", line 532, in run_cell\n      return super().run_cell(*args, **kwargs)\n    File \"c:\\Users\\rubin\\anaconda3\\envs\\tf_gpu\\lib\\site-packages\\IPython\\core\\interactiveshell.py\", line 2881, in run_cell\n      result = self._run_cell(\n    File \"c:\\Users\\rubin\\anaconda3\\envs\\tf_gpu\\lib\\site-packages\\IPython\\core\\interactiveshell.py\", line 2936, in _run_cell\n      return runner(coro)\n    File \"c:\\Users\\rubin\\anaconda3\\envs\\tf_gpu\\lib\\site-packages\\IPython\\core\\async_helpers.py\", line 129, in _pseudo_sync_runner\n      coro.send(None)\n    File \"c:\\Users\\rubin\\anaconda3\\envs\\tf_gpu\\lib\\site-packages\\IPython\\core\\interactiveshell.py\", line 3135, in run_cell_async\n      has_raised = await self.run_ast_nodes(code_ast.body, cell_name,\n    File \"c:\\Users\\rubin\\anaconda3\\envs\\tf_gpu\\lib\\site-packages\\IPython\\core\\interactiveshell.py\", line 3338, in run_ast_nodes\n      if await self.run_code(code, result, async_=asy):\n    File \"c:\\Users\\rubin\\anaconda3\\envs\\tf_gpu\\lib\\site-packages\\IPython\\core\\interactiveshell.py\", line 3398, in run_code\n      exec(code_obj, self.user_global_ns, self.user_ns)\n    File \"C:\\Users\\rubin\\AppData\\Local\\Temp\\ipykernel_1708\\2979685168.py\", line 1, in <cell line: 1>\n      print(model.predict(np.array([[0.2], [0.3], [0.4], [0.5]])))\n    File \"c:\\Users\\rubin\\anaconda3\\envs\\tf_gpu\\lib\\site-packages\\keras\\utils\\traceback_utils.py\", line 65, in error_handler\n      return fn(*args, **kwargs)\n    File \"c:\\Users\\rubin\\anaconda3\\envs\\tf_gpu\\lib\\site-packages\\keras\\engine\\training.py\", line 2253, in predict\n      tmp_batch_outputs = self.predict_function(iterator)\n    File \"c:\\Users\\rubin\\anaconda3\\envs\\tf_gpu\\lib\\site-packages\\keras\\engine\\training.py\", line 2041, in predict_function\n      return step_function(self, iterator)\n    File \"c:\\Users\\rubin\\anaconda3\\envs\\tf_gpu\\lib\\site-packages\\keras\\engine\\training.py\", line 2027, in step_function\n      outputs = model.distribute_strategy.run(run_step, args=(data,))\n    File \"c:\\Users\\rubin\\anaconda3\\envs\\tf_gpu\\lib\\site-packages\\keras\\engine\\training.py\", line 2015, in run_step\n      outputs = model.predict_step(data)\n    File \"c:\\Users\\rubin\\anaconda3\\envs\\tf_gpu\\lib\\site-packages\\keras\\engine\\training.py\", line 1983, in predict_step\n      return self(x, training=False)\n    File \"c:\\Users\\rubin\\anaconda3\\envs\\tf_gpu\\lib\\site-packages\\keras\\utils\\traceback_utils.py\", line 65, in error_handler\n      return fn(*args, **kwargs)\n    File \"c:\\Users\\rubin\\anaconda3\\envs\\tf_gpu\\lib\\site-packages\\keras\\engine\\training.py\", line 557, in __call__\n      return super().__call__(*args, **kwargs)\n    File \"c:\\Users\\rubin\\anaconda3\\envs\\tf_gpu\\lib\\site-packages\\keras\\utils\\traceback_utils.py\", line 65, in error_handler\n      return fn(*args, **kwargs)\n    File \"c:\\Users\\rubin\\anaconda3\\envs\\tf_gpu\\lib\\site-packages\\keras\\engine\\base_layer.py\", line 1097, in __call__\n      outputs = call_fn(inputs, *args, **kwargs)\n    File \"c:\\Users\\rubin\\anaconda3\\envs\\tf_gpu\\lib\\site-packages\\keras\\utils\\traceback_utils.py\", line 96, in error_handler\n      return fn(*args, **kwargs)\n    File \"c:\\Users\\rubin\\anaconda3\\envs\\tf_gpu\\lib\\site-packages\\keras\\engine\\sequential.py\", line 410, in call\n      return super().call(inputs, training=training, mask=mask)\n    File \"c:\\Users\\rubin\\anaconda3\\envs\\tf_gpu\\lib\\site-packages\\keras\\engine\\functional.py\", line 510, in call\n      return self._run_internal_graph(inputs, training=training, mask=mask)\n    File \"c:\\Users\\rubin\\anaconda3\\envs\\tf_gpu\\lib\\site-packages\\keras\\engine\\functional.py\", line 667, in _run_internal_graph\n      outputs = node.layer(*args, **kwargs)\n    File \"c:\\Users\\rubin\\anaconda3\\envs\\tf_gpu\\lib\\site-packages\\keras\\layers\\rnn\\base_rnn.py\", line 553, in __call__\n      return super().__call__(inputs, **kwargs)\n    File \"c:\\Users\\rubin\\anaconda3\\envs\\tf_gpu\\lib\\site-packages\\keras\\utils\\traceback_utils.py\", line 65, in error_handler\n      return fn(*args, **kwargs)\n    File \"c:\\Users\\rubin\\anaconda3\\envs\\tf_gpu\\lib\\site-packages\\keras\\engine\\base_layer.py\", line 1097, in __call__\n      outputs = call_fn(inputs, *args, **kwargs)\n    File \"c:\\Users\\rubin\\anaconda3\\envs\\tf_gpu\\lib\\site-packages\\keras\\utils\\traceback_utils.py\", line 96, in error_handler\n      return fn(*args, **kwargs)\n    File \"c:\\Users\\rubin\\anaconda3\\envs\\tf_gpu\\lib\\site-packages\\keras\\layers\\rnn\\simple_rnn.py\", line 410, in call\n      return super().call(\n    File \"c:\\Users\\rubin\\anaconda3\\envs\\tf_gpu\\lib\\site-packages\\keras\\layers\\rnn\\base_rnn.py\", line 719, in call\n      last_output, outputs, states = backend.rnn(\n    File \"c:\\Users\\rubin\\anaconda3\\envs\\tf_gpu\\lib\\site-packages\\keras\\backend.py\", line 4783, in rnn\n      inputs = tf.nest.map_structure(swap_batch_timestep, inputs)\n    File \"c:\\Users\\rubin\\anaconda3\\envs\\tf_gpu\\lib\\site-packages\\keras\\backend.py\", line 4780, in swap_batch_timestep\n      return tf.compat.v1.transpose(input_t, axes)\nNode: 'sequential_3/simple_rnn_3/transpose'\ntranspose expects a vector of size 2. But input(1) is a vector of size 3\n\t [[{{node sequential_3/simple_rnn_3/transpose}}]] [Op:__inference_predict_function_4646]",
     "output_type": "error",
     "traceback": [
      "\u001b[1;31m---------------------------------------------------------------------------\u001b[0m",
      "\u001b[1;31mInvalidArgumentError\u001b[0m                      Traceback (most recent call last)",
      "\u001b[1;32me:\\TENSORFLOW_2023\\RNN\\rnn_basics_01.ipynb Cell 13\u001b[0m in \u001b[0;36m<cell line: 1>\u001b[1;34m()\u001b[0m\n\u001b[1;32m----> <a href='vscode-notebook-cell:/e%3A/TENSORFLOW_2023/RNN/rnn_basics_01.ipynb#X16sZmlsZQ%3D%3D?line=0'>1</a>\u001b[0m \u001b[39mprint\u001b[39m(model\u001b[39m.\u001b[39;49mpredict(np\u001b[39m.\u001b[39;49marray([[\u001b[39m0.2\u001b[39;49m], [\u001b[39m0.3\u001b[39;49m], [\u001b[39m0.4\u001b[39;49m], [\u001b[39m0.5\u001b[39;49m]])))\n",
      "File \u001b[1;32mc:\\Users\\rubin\\anaconda3\\envs\\tf_gpu\\lib\\site-packages\\keras\\utils\\traceback_utils.py:70\u001b[0m, in \u001b[0;36mfilter_traceback.<locals>.error_handler\u001b[1;34m(*args, **kwargs)\u001b[0m\n\u001b[0;32m     67\u001b[0m     filtered_tb \u001b[39m=\u001b[39m _process_traceback_frames(e\u001b[39m.\u001b[39m__traceback__)\n\u001b[0;32m     68\u001b[0m     \u001b[39m# To get the full stack trace, call:\u001b[39;00m\n\u001b[0;32m     69\u001b[0m     \u001b[39m# `tf.debugging.disable_traceback_filtering()`\u001b[39;00m\n\u001b[1;32m---> 70\u001b[0m     \u001b[39mraise\u001b[39;00m e\u001b[39m.\u001b[39mwith_traceback(filtered_tb) \u001b[39mfrom\u001b[39;00m \u001b[39mNone\u001b[39m\n\u001b[0;32m     71\u001b[0m \u001b[39mfinally\u001b[39;00m:\n\u001b[0;32m     72\u001b[0m     \u001b[39mdel\u001b[39;00m filtered_tb\n",
      "File \u001b[1;32mc:\\Users\\rubin\\anaconda3\\envs\\tf_gpu\\lib\\site-packages\\tensorflow\\python\\eager\\execute.py:54\u001b[0m, in \u001b[0;36mquick_execute\u001b[1;34m(op_name, num_outputs, inputs, attrs, ctx, name)\u001b[0m\n\u001b[0;32m     52\u001b[0m \u001b[39mtry\u001b[39;00m:\n\u001b[0;32m     53\u001b[0m   ctx\u001b[39m.\u001b[39mensure_initialized()\n\u001b[1;32m---> 54\u001b[0m   tensors \u001b[39m=\u001b[39m pywrap_tfe\u001b[39m.\u001b[39mTFE_Py_Execute(ctx\u001b[39m.\u001b[39m_handle, device_name, op_name,\n\u001b[0;32m     55\u001b[0m                                       inputs, attrs, num_outputs)\n\u001b[0;32m     56\u001b[0m \u001b[39mexcept\u001b[39;00m core\u001b[39m.\u001b[39m_NotOkStatusException \u001b[39mas\u001b[39;00m e:\n\u001b[0;32m     57\u001b[0m   \u001b[39mif\u001b[39;00m name \u001b[39mis\u001b[39;00m \u001b[39mnot\u001b[39;00m \u001b[39mNone\u001b[39;00m:\n",
      "\u001b[1;31mInvalidArgumentError\u001b[0m: Graph execution error:\n\nDetected at node 'sequential_3/simple_rnn_3/transpose' defined at (most recent call last):\n    File \"c:\\Users\\rubin\\anaconda3\\envs\\tf_gpu\\lib\\runpy.py\", line 197, in _run_module_as_main\n      return _run_code(code, main_globals, None,\n    File \"c:\\Users\\rubin\\anaconda3\\envs\\tf_gpu\\lib\\runpy.py\", line 87, in _run_code\n      exec(code, run_globals)\n    File \"c:\\Users\\rubin\\anaconda3\\envs\\tf_gpu\\lib\\site-packages\\ipykernel_launcher.py\", line 16, in <module>\n      app.launch_new_instance()\n    File \"c:\\Users\\rubin\\anaconda3\\envs\\tf_gpu\\lib\\site-packages\\traitlets\\config\\application.py\", line 846, in launch_instance\n      app.start()\n    File \"c:\\Users\\rubin\\anaconda3\\envs\\tf_gpu\\lib\\site-packages\\ipykernel\\kernelapp.py\", line 677, in start\n      self.io_loop.start()\n    File \"c:\\Users\\rubin\\anaconda3\\envs\\tf_gpu\\lib\\site-packages\\tornado\\platform\\asyncio.py\", line 215, in start\n      self.asyncio_loop.run_forever()\n    File \"c:\\Users\\rubin\\anaconda3\\envs\\tf_gpu\\lib\\asyncio\\base_events.py\", line 601, in run_forever\n      self._run_once()\n    File \"c:\\Users\\rubin\\anaconda3\\envs\\tf_gpu\\lib\\asyncio\\base_events.py\", line 1905, in _run_once\n      handle._run()\n    File \"c:\\Users\\rubin\\anaconda3\\envs\\tf_gpu\\lib\\asyncio\\events.py\", line 80, in _run\n      self._context.run(self._callback, *self._args)\n    File \"c:\\Users\\rubin\\anaconda3\\envs\\tf_gpu\\lib\\site-packages\\ipykernel\\kernelbase.py\", line 471, in dispatch_queue\n      await self.process_one()\n    File \"c:\\Users\\rubin\\anaconda3\\envs\\tf_gpu\\lib\\site-packages\\ipykernel\\kernelbase.py\", line 460, in process_one\n      await dispatch(*args)\n    File \"c:\\Users\\rubin\\anaconda3\\envs\\tf_gpu\\lib\\site-packages\\ipykernel\\kernelbase.py\", line 367, in dispatch_shell\n      await result\n    File \"c:\\Users\\rubin\\anaconda3\\envs\\tf_gpu\\lib\\site-packages\\ipykernel\\kernelbase.py\", line 662, in execute_request\n      reply_content = await reply_content\n    File \"c:\\Users\\rubin\\anaconda3\\envs\\tf_gpu\\lib\\site-packages\\ipykernel\\ipkernel.py\", line 360, in do_execute\n      res = shell.run_cell(code, store_history=store_history, silent=silent)\n    File \"c:\\Users\\rubin\\anaconda3\\envs\\tf_gpu\\lib\\site-packages\\ipykernel\\zmqshell.py\", line 532, in run_cell\n      return super().run_cell(*args, **kwargs)\n    File \"c:\\Users\\rubin\\anaconda3\\envs\\tf_gpu\\lib\\site-packages\\IPython\\core\\interactiveshell.py\", line 2881, in run_cell\n      result = self._run_cell(\n    File \"c:\\Users\\rubin\\anaconda3\\envs\\tf_gpu\\lib\\site-packages\\IPython\\core\\interactiveshell.py\", line 2936, in _run_cell\n      return runner(coro)\n    File \"c:\\Users\\rubin\\anaconda3\\envs\\tf_gpu\\lib\\site-packages\\IPython\\core\\async_helpers.py\", line 129, in _pseudo_sync_runner\n      coro.send(None)\n    File \"c:\\Users\\rubin\\anaconda3\\envs\\tf_gpu\\lib\\site-packages\\IPython\\core\\interactiveshell.py\", line 3135, in run_cell_async\n      has_raised = await self.run_ast_nodes(code_ast.body, cell_name,\n    File \"c:\\Users\\rubin\\anaconda3\\envs\\tf_gpu\\lib\\site-packages\\IPython\\core\\interactiveshell.py\", line 3338, in run_ast_nodes\n      if await self.run_code(code, result, async_=asy):\n    File \"c:\\Users\\rubin\\anaconda3\\envs\\tf_gpu\\lib\\site-packages\\IPython\\core\\interactiveshell.py\", line 3398, in run_code\n      exec(code_obj, self.user_global_ns, self.user_ns)\n    File \"C:\\Users\\rubin\\AppData\\Local\\Temp\\ipykernel_1708\\2979685168.py\", line 1, in <cell line: 1>\n      print(model.predict(np.array([[0.2], [0.3], [0.4], [0.5]])))\n    File \"c:\\Users\\rubin\\anaconda3\\envs\\tf_gpu\\lib\\site-packages\\keras\\utils\\traceback_utils.py\", line 65, in error_handler\n      return fn(*args, **kwargs)\n    File \"c:\\Users\\rubin\\anaconda3\\envs\\tf_gpu\\lib\\site-packages\\keras\\engine\\training.py\", line 2253, in predict\n      tmp_batch_outputs = self.predict_function(iterator)\n    File \"c:\\Users\\rubin\\anaconda3\\envs\\tf_gpu\\lib\\site-packages\\keras\\engine\\training.py\", line 2041, in predict_function\n      return step_function(self, iterator)\n    File \"c:\\Users\\rubin\\anaconda3\\envs\\tf_gpu\\lib\\site-packages\\keras\\engine\\training.py\", line 2027, in step_function\n      outputs = model.distribute_strategy.run(run_step, args=(data,))\n    File \"c:\\Users\\rubin\\anaconda3\\envs\\tf_gpu\\lib\\site-packages\\keras\\engine\\training.py\", line 2015, in run_step\n      outputs = model.predict_step(data)\n    File \"c:\\Users\\rubin\\anaconda3\\envs\\tf_gpu\\lib\\site-packages\\keras\\engine\\training.py\", line 1983, in predict_step\n      return self(x, training=False)\n    File \"c:\\Users\\rubin\\anaconda3\\envs\\tf_gpu\\lib\\site-packages\\keras\\utils\\traceback_utils.py\", line 65, in error_handler\n      return fn(*args, **kwargs)\n    File \"c:\\Users\\rubin\\anaconda3\\envs\\tf_gpu\\lib\\site-packages\\keras\\engine\\training.py\", line 557, in __call__\n      return super().__call__(*args, **kwargs)\n    File \"c:\\Users\\rubin\\anaconda3\\envs\\tf_gpu\\lib\\site-packages\\keras\\utils\\traceback_utils.py\", line 65, in error_handler\n      return fn(*args, **kwargs)\n    File \"c:\\Users\\rubin\\anaconda3\\envs\\tf_gpu\\lib\\site-packages\\keras\\engine\\base_layer.py\", line 1097, in __call__\n      outputs = call_fn(inputs, *args, **kwargs)\n    File \"c:\\Users\\rubin\\anaconda3\\envs\\tf_gpu\\lib\\site-packages\\keras\\utils\\traceback_utils.py\", line 96, in error_handler\n      return fn(*args, **kwargs)\n    File \"c:\\Users\\rubin\\anaconda3\\envs\\tf_gpu\\lib\\site-packages\\keras\\engine\\sequential.py\", line 410, in call\n      return super().call(inputs, training=training, mask=mask)\n    File \"c:\\Users\\rubin\\anaconda3\\envs\\tf_gpu\\lib\\site-packages\\keras\\engine\\functional.py\", line 510, in call\n      return self._run_internal_graph(inputs, training=training, mask=mask)\n    File \"c:\\Users\\rubin\\anaconda3\\envs\\tf_gpu\\lib\\site-packages\\keras\\engine\\functional.py\", line 667, in _run_internal_graph\n      outputs = node.layer(*args, **kwargs)\n    File \"c:\\Users\\rubin\\anaconda3\\envs\\tf_gpu\\lib\\site-packages\\keras\\layers\\rnn\\base_rnn.py\", line 553, in __call__\n      return super().__call__(inputs, **kwargs)\n    File \"c:\\Users\\rubin\\anaconda3\\envs\\tf_gpu\\lib\\site-packages\\keras\\utils\\traceback_utils.py\", line 65, in error_handler\n      return fn(*args, **kwargs)\n    File \"c:\\Users\\rubin\\anaconda3\\envs\\tf_gpu\\lib\\site-packages\\keras\\engine\\base_layer.py\", line 1097, in __call__\n      outputs = call_fn(inputs, *args, **kwargs)\n    File \"c:\\Users\\rubin\\anaconda3\\envs\\tf_gpu\\lib\\site-packages\\keras\\utils\\traceback_utils.py\", line 96, in error_handler\n      return fn(*args, **kwargs)\n    File \"c:\\Users\\rubin\\anaconda3\\envs\\tf_gpu\\lib\\site-packages\\keras\\layers\\rnn\\simple_rnn.py\", line 410, in call\n      return super().call(\n    File \"c:\\Users\\rubin\\anaconda3\\envs\\tf_gpu\\lib\\site-packages\\keras\\layers\\rnn\\base_rnn.py\", line 719, in call\n      last_output, outputs, states = backend.rnn(\n    File \"c:\\Users\\rubin\\anaconda3\\envs\\tf_gpu\\lib\\site-packages\\keras\\backend.py\", line 4783, in rnn\n      inputs = tf.nest.map_structure(swap_batch_timestep, inputs)\n    File \"c:\\Users\\rubin\\anaconda3\\envs\\tf_gpu\\lib\\site-packages\\keras\\backend.py\", line 4780, in swap_batch_timestep\n      return tf.compat.v1.transpose(input_t, axes)\nNode: 'sequential_3/simple_rnn_3/transpose'\ntranspose expects a vector of size 2. But input(1) is a vector of size 3\n\t [[{{node sequential_3/simple_rnn_3/transpose}}]] [Op:__inference_predict_function_4646]"
     ]
    }
   ],
   "source": [
    "print(model.predict(np.array([[0.2], [0.3], [0.4], [0.5]])))"
   ]
  },
  {
   "cell_type": "code",
   "execution_count": null,
   "metadata": {},
   "outputs": [],
   "source": []
  },
  {
   "cell_type": "code",
   "execution_count": null,
   "metadata": {},
   "outputs": [],
   "source": []
  },
  {
   "cell_type": "code",
   "execution_count": null,
   "metadata": {},
   "outputs": [],
   "source": []
  },
  {
   "cell_type": "code",
   "execution_count": null,
   "metadata": {},
   "outputs": [],
   "source": []
  },
  {
   "cell_type": "code",
   "execution_count": 6,
   "metadata": {},
   "outputs": [
    {
     "name": "stdout",
     "output_type": "stream",
     "text": [
      "0.0  0.1  0.2  0.3  \n",
      "0.0  0.1  0.2  0.3  \n",
      "0.0  0.1  0.2  0.3  \n",
      "0.1  0.2  0.3  0.4  \n"
     ]
    }
   ],
   "source": [
    "x = [[0,1,2,3],[1,2,3,4]]\n",
    "y = [c/10 for c in x[0]]\n",
    "z = map(lambda c : c/10, x[0])\n",
    "\n",
    "for i in y:\n",
    "    print(i, end='  ')\n",
    "print()\n",
    "    \n",
    "for i in z:\n",
    "    print(i, end='  ')\n",
    "print()\n",
    "\n",
    "for i in x:\n",
    "    z = map(lambda c : c/10, i)\n",
    "    for c in z:\n",
    "        print(c, end='  ')\n",
    "    print()   "
   ]
  }
 ],
 "metadata": {
  "kernelspec": {
   "display_name": "tf_gpu",
   "language": "python",
   "name": "python3"
  },
  "language_info": {
   "codemirror_mode": {
    "name": "ipython",
    "version": 3
   },
   "file_extension": ".py",
   "mimetype": "text/x-python",
   "name": "python",
   "nbconvert_exporter": "python",
   "pygments_lexer": "ipython3",
   "version": "3.9.13"
  },
  "orig_nbformat": 4,
  "vscode": {
   "interpreter": {
    "hash": "7b18c970f1c267b2ae7de1f51c7b9ea29dc67f6c9f87d5b0ef47c4534e0830b3"
   }
  }
 },
 "nbformat": 4,
 "nbformat_minor": 2
}
