{
  "nbformat": 4,
  "nbformat_minor": 0,
  "metadata": {
    "colab": {
      "provenance": []
    },
    "kernelspec": {
      "name": "python3",
      "display_name": "Python 3"
    },
    "language_info": {
      "name": "python"
    },
    "gpuClass": "standard"
  },
  "cells": [
    {
      "cell_type": "markdown",
      "source": [
        "### 풀링레이어, 드롭아웃레이어 추가해서 퍼포먼스 높히기"
      ],
      "metadata": {
        "id": "zmYPL3s8BNr1"
      }
    },
    {
      "cell_type": "code",
      "execution_count": 1,
      "metadata": {
        "id": "NFioQPlVAy8D",
        "colab": {
          "base_uri": "https://localhost:8080/"
        },
        "outputId": "b9838e9f-3706-444d-c03d-319773e8cea0"
      },
      "outputs": [
        {
          "output_type": "stream",
          "name": "stdout",
          "text": [
            "Downloading data from https://storage.googleapis.com/tensorflow/tf-keras-datasets/train-labels-idx1-ubyte.gz\n",
            "29515/29515 [==============================] - 0s 0us/step\n",
            "Downloading data from https://storage.googleapis.com/tensorflow/tf-keras-datasets/train-images-idx3-ubyte.gz\n",
            "26421880/26421880 [==============================] - 3s 0us/step\n",
            "Downloading data from https://storage.googleapis.com/tensorflow/tf-keras-datasets/t10k-labels-idx1-ubyte.gz\n",
            "5148/5148 [==============================] - 0s 0us/step\n",
            "Downloading data from https://storage.googleapis.com/tensorflow/tf-keras-datasets/t10k-images-idx3-ubyte.gz\n",
            "4422102/4422102 [==============================] - 0s 0us/step\n"
          ]
        }
      ],
      "source": [
        "# Fashion MNIST 데이터셋 불러오기 및 정규화\n",
        "import tensorflow as tf\n",
        "\n",
        "fashion_mnist = tf.keras.datasets.fashion_mnist\n",
        "(train_X, train_Y),(test_X, test_Y) = fashion_mnist.load_data()\n",
        "\n",
        "train_X = train_X / 255\n",
        "test_X = test_X / 255"
      ]
    },
    {
      "cell_type": "code",
      "source": [
        "# before reshape\n",
        "print(f\"train_X의 shape : {train_X.shape}, test_X의 shape : {test_X.shape}\")\n",
        "\n",
        "# 데이터의 차원 맨 뒤에 채널 정보 추가(Fashion_MNIST 데이터셋의 이미지는 흑백이므로 1을 추가한다.)\n",
        "train_X = train_X.reshape(-1, 28, 28, 1)\n",
        "test_X = test_X.reshape(-1, 28, 28, 1)\n",
        "\n",
        "# reshape 수행후의 데이터 shape 살펴보기\n",
        "print(f\"train_X의 shape : {train_X.shape}, test_X의 shape : {test_X.shape}\")"
      ],
      "metadata": {
        "colab": {
          "base_uri": "https://localhost:8080/"
        },
        "id": "v4xR5UyQF9D1",
        "outputId": "e58de761-7556-4304-92bc-07f072406c5d"
      },
      "execution_count": 2,
      "outputs": [
        {
          "output_type": "stream",
          "name": "stdout",
          "text": [
            "train_X의 shape : (60000, 28, 28), test_X의 shape : (10000, 28, 28)\n",
            "train_X의 shape : (60000, 28, 28, 1), test_X의 shape : (10000, 28, 28, 1)\n"
          ]
        }
      ]
    },
    {
      "cell_type": "code",
      "source": [
        "# Google Colab GPU 사양 확인\n",
        "!nvidia-smi"
      ],
      "metadata": {
        "colab": {
          "base_uri": "https://localhost:8080/"
        },
        "id": "eH0p8NcwJYGL",
        "outputId": "192aa6e9-252a-48b9-85b0-79f6c129473d"
      },
      "execution_count": 3,
      "outputs": [
        {
          "output_type": "stream",
          "name": "stdout",
          "text": [
            "Sun Dec 11 12:51:43 2022       \n",
            "+-----------------------------------------------------------------------------+\n",
            "| NVIDIA-SMI 460.32.03    Driver Version: 460.32.03    CUDA Version: 11.2     |\n",
            "|-------------------------------+----------------------+----------------------+\n",
            "| GPU  Name        Persistence-M| Bus-Id        Disp.A | Volatile Uncorr. ECC |\n",
            "| Fan  Temp  Perf  Pwr:Usage/Cap|         Memory-Usage | GPU-Util  Compute M. |\n",
            "|                               |                      |               MIG M. |\n",
            "|===============================+======================+======================|\n",
            "|   0  Tesla T4            Off  | 00000000:00:04.0 Off |                    0 |\n",
            "| N/A   70C    P0    28W /  70W |      0MiB / 15109MiB |      0%      Default |\n",
            "|                               |                      |                  N/A |\n",
            "+-------------------------------+----------------------+----------------------+\n",
            "                                                                               \n",
            "+-----------------------------------------------------------------------------+\n",
            "| Processes:                                                                  |\n",
            "|  GPU   GI   CI        PID   Type   Process name                  GPU Memory |\n",
            "|        ID   ID                                                   Usage      |\n",
            "|=============================================================================|\n",
            "|  No running processes found                                                 |\n",
            "+-----------------------------------------------------------------------------+\n"
          ]
        }
      ]
    },
    {
      "cell_type": "code",
      "source": [
        "# Fashion MNIST 분류 컨볼루션 신경망 모델 정의\n",
        "model = tf.keras.Sequential([\n",
        "    tf.keras.layers.Conv2D(input_shape=(28,28,1), kernel_size=(3,3), filters=32),\n",
        "    tf.keras.layers.MaxPool2D(strides=(2,2)),\n",
        "    tf.keras.layers.Conv2D(kernel_size=(3,3), filters=64),\n",
        "    tf.keras.layers.MaxPool2D(strides=(2,2)),\n",
        "    tf.keras.layers.Conv2D(kernel_size=(3,3), filters=128),\n",
        "    tf.keras.layers.Flatten(),\n",
        "    tf.keras.layers.Dense(units=128, activation='relu'),\n",
        "    tf.keras.layers.Dropout(rate=0.3),\n",
        "    tf.keras.layers.Dense(units=10, activation='softmax')\n",
        "])\n",
        "\n",
        "model.compile(optimizer=tf.keras.optimizers.Adam(), loss='sparse_categorical_crossentropy', metrics=['accuracy'])\n",
        "\n",
        "model.summary()"
      ],
      "metadata": {
        "colab": {
          "base_uri": "https://localhost:8080/"
        },
        "id": "vo1uVXL4JgJm",
        "outputId": "53b189f6-0555-445f-d96c-7eed13605200"
      },
      "execution_count": 6,
      "outputs": [
        {
          "output_type": "stream",
          "name": "stdout",
          "text": [
            "Model: \"sequential\"\n",
            "_________________________________________________________________\n",
            " Layer (type)                Output Shape              Param #   \n",
            "=================================================================\n",
            " conv2d_5 (Conv2D)           (None, 26, 26, 32)        320       \n",
            "                                                                 \n",
            " max_pooling2d_4 (MaxPooling  (None, 13, 13, 32)       0         \n",
            " 2D)                                                             \n",
            "                                                                 \n",
            " conv2d_6 (Conv2D)           (None, 11, 11, 64)        18496     \n",
            "                                                                 \n",
            " max_pooling2d_5 (MaxPooling  (None, 5, 5, 64)         0         \n",
            " 2D)                                                             \n",
            "                                                                 \n",
            " conv2d_7 (Conv2D)           (None, 3, 3, 128)         73856     \n",
            "                                                                 \n",
            " flatten_1 (Flatten)         (None, 1152)              0         \n",
            "                                                                 \n",
            " dense_1 (Dense)             (None, 128)               147584    \n",
            "                                                                 \n",
            " dropout (Dropout)           (None, 128)               0         \n",
            "                                                                 \n",
            " dense_2 (Dense)             (None, 10)                1290      \n",
            "                                                                 \n",
            "=================================================================\n",
            "Total params: 241,546\n",
            "Trainable params: 241,546\n",
            "Non-trainable params: 0\n",
            "_________________________________________________________________\n"
          ]
        }
      ]
    },
    {
      "cell_type": "code",
      "source": [
        "# Fashion MNIST 분류 컨볼루션 신경망 모델 학습 - 풀링 레이어, 드롭아웃 레이어 추가\n",
        "history = model.fit(train_X, train_Y, epochs=25, validation_split=0.25)"
      ],
      "metadata": {
        "colab": {
          "base_uri": "https://localhost:8080/"
        },
        "id": "eC10O2PlOoSt",
        "outputId": "cfe8277d-c409-4c66-86e9-5fe92e20b8e8"
      },
      "execution_count": 7,
      "outputs": [
        {
          "output_type": "stream",
          "name": "stdout",
          "text": [
            "Epoch 1/25\n",
            "1407/1407 [==============================] - 15s 5ms/step - loss: 0.5280 - accuracy: 0.8100 - val_loss: 0.3624 - val_accuracy: 0.8679\n",
            "Epoch 2/25\n",
            "1407/1407 [==============================] - 6s 5ms/step - loss: 0.3636 - accuracy: 0.8702 - val_loss: 0.3218 - val_accuracy: 0.8822\n",
            "Epoch 3/25\n",
            "1407/1407 [==============================] - 6s 4ms/step - loss: 0.3215 - accuracy: 0.8844 - val_loss: 0.3294 - val_accuracy: 0.8779\n",
            "Epoch 4/25\n",
            "1407/1407 [==============================] - 6s 4ms/step - loss: 0.2906 - accuracy: 0.8927 - val_loss: 0.3617 - val_accuracy: 0.8742\n",
            "Epoch 5/25\n",
            "1407/1407 [==============================] - 6s 5ms/step - loss: 0.2725 - accuracy: 0.9004 - val_loss: 0.3036 - val_accuracy: 0.8907\n",
            "Epoch 6/25\n",
            "1407/1407 [==============================] - 6s 4ms/step - loss: 0.2555 - accuracy: 0.9066 - val_loss: 0.2980 - val_accuracy: 0.8933\n",
            "Epoch 7/25\n",
            "1407/1407 [==============================] - 6s 4ms/step - loss: 0.2396 - accuracy: 0.9121 - val_loss: 0.2933 - val_accuracy: 0.8987\n",
            "Epoch 8/25\n",
            "1407/1407 [==============================] - 6s 5ms/step - loss: 0.2274 - accuracy: 0.9152 - val_loss: 0.2902 - val_accuracy: 0.8967\n",
            "Epoch 9/25\n",
            "1407/1407 [==============================] - 6s 5ms/step - loss: 0.2159 - accuracy: 0.9213 - val_loss: 0.2976 - val_accuracy: 0.8976\n",
            "Epoch 10/25\n",
            "1407/1407 [==============================] - 6s 5ms/step - loss: 0.2030 - accuracy: 0.9230 - val_loss: 0.3042 - val_accuracy: 0.9001\n",
            "Epoch 11/25\n",
            "1407/1407 [==============================] - 6s 5ms/step - loss: 0.1974 - accuracy: 0.9265 - val_loss: 0.3490 - val_accuracy: 0.8941\n",
            "Epoch 12/25\n",
            "1407/1407 [==============================] - 6s 4ms/step - loss: 0.1893 - accuracy: 0.9295 - val_loss: 0.3086 - val_accuracy: 0.9001\n",
            "Epoch 13/25\n",
            "1407/1407 [==============================] - 6s 5ms/step - loss: 0.1854 - accuracy: 0.9310 - val_loss: 0.3383 - val_accuracy: 0.8934\n",
            "Epoch 14/25\n",
            "1407/1407 [==============================] - 6s 5ms/step - loss: 0.1677 - accuracy: 0.9372 - val_loss: 0.3479 - val_accuracy: 0.8978\n",
            "Epoch 15/25\n",
            "1407/1407 [==============================] - 6s 5ms/step - loss: 0.1680 - accuracy: 0.9380 - val_loss: 0.4479 - val_accuracy: 0.8877\n",
            "Epoch 16/25\n",
            "1407/1407 [==============================] - 6s 5ms/step - loss: 0.1654 - accuracy: 0.9388 - val_loss: 0.3713 - val_accuracy: 0.9017\n",
            "Epoch 17/25\n",
            "1407/1407 [==============================] - 6s 5ms/step - loss: 0.1565 - accuracy: 0.9407 - val_loss: 0.3588 - val_accuracy: 0.8921\n",
            "Epoch 18/25\n",
            "1407/1407 [==============================] - 6s 4ms/step - loss: 0.1509 - accuracy: 0.9439 - val_loss: 0.4241 - val_accuracy: 0.8979\n",
            "Epoch 19/25\n",
            "1407/1407 [==============================] - 6s 5ms/step - loss: 0.1472 - accuracy: 0.9454 - val_loss: 0.4098 - val_accuracy: 0.8956\n",
            "Epoch 20/25\n",
            "1407/1407 [==============================] - 6s 5ms/step - loss: 0.1456 - accuracy: 0.9462 - val_loss: 0.4205 - val_accuracy: 0.8961\n",
            "Epoch 21/25\n",
            "1407/1407 [==============================] - 6s 4ms/step - loss: 0.1426 - accuracy: 0.9472 - val_loss: 0.4364 - val_accuracy: 0.8991\n",
            "Epoch 22/25\n",
            "1407/1407 [==============================] - 6s 5ms/step - loss: 0.1326 - accuracy: 0.9502 - val_loss: 0.4709 - val_accuracy: 0.8971\n",
            "Epoch 23/25\n",
            "1407/1407 [==============================] - 7s 5ms/step - loss: 0.1367 - accuracy: 0.9499 - val_loss: 0.3812 - val_accuracy: 0.8981\n",
            "Epoch 24/25\n",
            "1407/1407 [==============================] - 6s 5ms/step - loss: 0.1362 - accuracy: 0.9492 - val_loss: 0.4544 - val_accuracy: 0.8955\n",
            "Epoch 25/25\n",
            "1407/1407 [==============================] - 6s 5ms/step - loss: 0.1350 - accuracy: 0.9501 - val_loss: 0.4640 - val_accuracy: 0.8958\n"
          ]
        }
      ]
    },
    {
      "cell_type": "code",
      "source": [
        "model.evaluate(test_X, test_Y, verbose=0)"
      ],
      "metadata": {
        "colab": {
          "base_uri": "https://localhost:8080/"
        },
        "id": "1oppFlR_PD6G",
        "outputId": "73d838fd-6900-4ad1-a318-52a3c188a1de"
      },
      "execution_count": 8,
      "outputs": [
        {
          "output_type": "execute_result",
          "data": {
            "text/plain": [
              "[0.46630921959877014, 0.8980000019073486]"
            ]
          },
          "metadata": {},
          "execution_count": 8
        }
      ]
    }
  ]
}